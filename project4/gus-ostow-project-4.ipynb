{
 "cells": [
  {
   "cell_type": "markdown",
   "metadata": {},
   "source": [
    "<img src=\"http://imgur.com/1ZcRyrc.png\" style=\"float: left; margin: 15px; height: 80px\">\n",
    "\n",
    "# Project 4: Classification with Yelp, SGD, OOP"
   ]
  },
  {
   "cell_type": "markdown",
   "metadata": {},
   "source": [
    "## Yelp\n",
    "\n",
    "---\n",
    "\n",
    "In this project you will be investigating a small version of the [Yelp challenge dataset](https://www.yelp.com/dataset_challenge). You'll practice using classification algorithms, cross-validation, gridsearching – all that good stuff.\n",
    "\n",
    "---\n",
    "\n",
    "### The data\n",
    "\n",
    "There are 5 individual .csv files that have the information, zipped into .7z format like with the SF data last project. The dataset is located in your datasets folder:\n",
    "\n",
    "    DSI-SF-2/datasets/yelp_arizona_data.7z\n",
    "\n",
    "The columns in each are:\n",
    "\n",
    "    businesses_small_parsed.csv\n",
    "        business_id: unique business identifier\n",
    "        name: name of the business\n",
    "        review_count: number of reviews per business\n",
    "        city: city business resides in\n",
    "        stars: average rating\n",
    "        categories: categories the business falls into (can be one or multiple)\n",
    "        latitude\n",
    "        longitude\n",
    "        neighborhoods: neighborhoods business belongs to\n",
    "        variable: \"property\" of the business (a tag)\n",
    "        value: True/False for the property\n",
    "        \n",
    "    reviews_small_nlp_parsed.csv\n",
    "        user_id: unique user identifier\n",
    "        review_id: unique review identifier\n",
    "        votes.cool: how many thought the review was \"cool\"\n",
    "        business_id: unique business id the review is for\n",
    "        votes.funny: how many thought the review was funny\n",
    "        stars: rating given\n",
    "        date: date of review\n",
    "        votes.useful: how many thought the review was useful\n",
    "        ... 100 columns of counts of most common 2 word phrases that appear in reviews in this review\n",
    "        \n",
    "    users_small_parsed.csv\n",
    "        yelping_since: signup date\n",
    "        compliments.plain: # of compliments \"plain\"\n",
    "        review_count: # of reviews:\n",
    "        compliments.cute: total # of compliments \"cute\"\n",
    "        compliments.writer: # of compliments \"writer\"\n",
    "        compliments.note: # of compliments \"note\" (not sure what this is)\n",
    "        compliments.hot: # of compliments \"hot\" (?)\n",
    "        compliments.cool: # of compliments \"cool\"\n",
    "        compliments.profile: # of compliments \"profile\"\n",
    "        average_stars: average rating\n",
    "        compliments.more: # of compliments \"more\"\n",
    "        elite: years considered \"elite\"\n",
    "        name: user's name\n",
    "        user_id: unique user id\n",
    "        votes.cool: # of votes \"cool\"\n",
    "        compliments.list: # of compliments \"list\"\n",
    "        votes.funny: # of compliments \"funny\"\n",
    "        compliments.photos: # of compliments \"photos\"\n",
    "        compliments.funny: # of compliments \"funny\"\n",
    "        votes.useful: # of votes \"useful\"\n",
    "       \n",
    "    checkins_small_parsed.csv\n",
    "        business_id: unique business identifier\n",
    "        variable: day-time identifier of checkins (0-0 is Sunday 0:00 - 1:00am,  for example)\n",
    "        value: # of checkins at that time\n",
    "    \n",
    "    tips_small_nlp_parsed.csv\n",
    "        user_id: unique user identifier\n",
    "        business_id: unique business identifier\n",
    "        likes: likes that the tip has\n",
    "        date: date of tip\n",
    "        ... 100 columns of counts of most common 2 word phrases that appear in tips in this tip\n",
    "\n",
    "The reviews and tips datasets in particular have parsed \"NLP\" columns with counts of 2-word phrases in that review or tip (a \"tip\", it seems, is some kind of smaller review).\n",
    "\n",
    "The user dataset has a lot of columns of counts of different compliments and votes. I'm not sure whether the compliments or votes are _by_ the user or _for_ the user.\n",
    "\n",
    "---\n",
    "\n",
    "If you look at the website, or the full data, you'll see I have removed pieces of the data and cut it down quite a bit. This is to simplify it for this project. Specifically, business are limited to be in these cities:\n",
    "\n",
    "    Phoenix\n",
    "    Surprise\n",
    "    Las Vegas\n",
    "    Waterloo\n",
    "\n",
    "Apparently there is a city called \"Surprise\" in Arizona. \n",
    "\n",
    "Businesses are also restricted to at least be in one of the following categories, because I thought the mix of them was funny:\n",
    "\n",
    "    Airports\n",
    "    Breakfast & Brunch\n",
    "    Bubble Tea\n",
    "    Burgers\n",
    "    Bars\n",
    "    Bakeries\n",
    "    Breweries\n",
    "    Cafes\n",
    "    Candy Stores\n",
    "    Comedy Clubs\n",
    "    Courthouses\n",
    "    Dance Clubs\n",
    "    Fast Food\n",
    "    Museums\n",
    "    Tattoo\n",
    "    Vape Shops\n",
    "    Yoga\n",
    "    \n",
    "---\n",
    "\n",
    "### Project requirements\n",
    "\n",
    "**You will be performing 4 different sections of analysis, like in the last project.**\n",
    "\n",
    "Remember that classification targets are categorical and regression targets are continuous variables."
   ]
  },
  {
   "cell_type": "code",
   "execution_count": 2,
   "metadata": {
    "collapsed": false
   },
   "outputs": [
    {
     "name": "stderr",
     "output_type": "stream",
     "text": [
      "//anaconda/envs/dsi/lib/python2.7/site-packages/sklearn/cross_validation.py:44: DeprecationWarning: This module was deprecated in version 0.18 in favor of the model_selection module into which all the refactored classes and functions are moved. Also note that the interface of the new CV iterators are different from that of this module. This module will be removed in 0.20.\n",
      "  \"This module will be removed in 0.20.\", DeprecationWarning)\n"
     ]
    }
   ],
   "source": [
    "import pandas as pd\n",
    "import numpy as np\n",
    "import patsy\n",
    "\n",
    "from sklearn.linear_model import Ridge, Lasso, LinearRegression, RidgeCV, LassoCV,LogisticRegression\n",
    "from sklearn.neighbors import KNeighborsClassifier\n",
    "from sklearn.cross_validation import cross_val_score\n",
    "\n",
    "import statsmodels.formula.api as sm\n",
    "\n",
    "import matplotlib\n",
    "import matplotlib.pyplot as plt\n",
    "import seaborn as sns\n",
    "plt.style.use('fivethirtyeight')\n",
    "\n",
    "%config InlineBackend.figure_format = 'retina'\n",
    "%matplotlib inline"
   ]
  },
  {
   "cell_type": "markdown",
   "metadata": {},
   "source": [
    "<img src=\"http://imgur.com/l5NasQj.png\" style=\"float: left; margin: 25px 15px 0px 0px; height: 25px\">\n",
    "\n",
    "## 1. Constructing a \"profile\" for Las Vegas\n",
    "\n",
    "---\n",
    "\n",
    "Yelp is interested in building out what they are calling \"profiles\" for cities. They want you to start with just Las Vegas to see what a prototype of this would look like. Essentially, they want to know what makes Las Vegas distinct from the other four.\n",
    "\n",
    "Use the data you have to predict Las Vegas from the other variables you have. You should not be predicting the city from any kind of location data or other data perfectly associated with that city (or another city).\n",
    "\n",
    "You may use any classification algorithm you deem appropriate, or even multiple models. You should:\n",
    "\n",
    "1. Build at least one model predicting Las Vegas vs. the other cities.\n",
    "- Validate your model(s).\n",
    "- Interpret and visualize, in some way, the results.\n",
    "- Write up a \"profile\" for Las Vegas. This should be a writeup converting your findings from the model(s) into a human-readable description of the city."
   ]
  },
  {
   "cell_type": "code",
   "execution_count": 18,
   "metadata": {
    "collapsed": false,
    "scrolled": true
   },
   "outputs": [
    {
     "data": {
      "text/html": [
       "<div>\n",
       "<table border=\"1\" class=\"dataframe\">\n",
       "  <thead>\n",
       "    <tr style=\"text-align: right;\">\n",
       "      <th></th>\n",
       "      <th>business_id</th>\n",
       "      <th>name</th>\n",
       "      <th>review_count</th>\n",
       "      <th>city</th>\n",
       "      <th>stars</th>\n",
       "      <th>categories</th>\n",
       "      <th>latitude</th>\n",
       "      <th>longitude</th>\n",
       "      <th>neighborhoods</th>\n",
       "      <th>variable</th>\n",
       "      <th>value</th>\n",
       "      <th>is_vegas</th>\n",
       "    </tr>\n",
       "  </thead>\n",
       "  <tbody>\n",
       "    <tr>\n",
       "      <th>0</th>\n",
       "      <td>EmzaQR5hQlF0WIl24NxAZA</td>\n",
       "      <td>Sky Lounge</td>\n",
       "      <td>25</td>\n",
       "      <td>Phoenix</td>\n",
       "      <td>2.5</td>\n",
       "      <td>['American (New)', 'Nightlife', 'Dance Clubs',...</td>\n",
       "      <td>33.448399</td>\n",
       "      <td>-112.071702</td>\n",
       "      <td>[]</td>\n",
       "      <td>attributes.Ambience.divey</td>\n",
       "      <td>False</td>\n",
       "      <td>False</td>\n",
       "    </tr>\n",
       "  </tbody>\n",
       "</table>\n",
       "</div>"
      ],
      "text/plain": [
       "              business_id        name  review_count     city  stars  \\\n",
       "0  EmzaQR5hQlF0WIl24NxAZA  Sky Lounge            25  Phoenix    2.5   \n",
       "\n",
       "                                          categories   latitude   longitude  \\\n",
       "0  ['American (New)', 'Nightlife', 'Dance Clubs',...  33.448399 -112.071702   \n",
       "\n",
       "  neighborhoods                   variable  value is_vegas  \n",
       "0            []  attributes.Ambience.divey  False    False  "
      ]
     },
     "execution_count": 18,
     "metadata": {},
     "output_type": "execute_result"
    }
   ],
   "source": [
    "business = pd.read_csv(\"/Users/augustus/Desktop/DSI_notes_assignments/projects/project4/yelp_arizona_data/businesses_small_parsed.csv\")\n",
    "\n",
    "\n",
    "\n",
    "business[\"is_vegas\"] = business[\"city\"] == \"Las Vegas\"\n",
    "\n",
    "business.head()\n",
    "\n",
    "business.drop([\"latitude\", \"longitude\", \"neighborhoods\"], axis = 1)\n",
    "\n",
    "business.head(1)"
   ]
  },
  {
   "cell_type": "code",
   "execution_count": null,
   "metadata": {
    "collapsed": true
   },
   "outputs": [],
   "source": [
    "business_pivot = business.pivot(index = \"business_id\", columns = \"variable\", values = \"value\")\n",
    "business = business.drop([\"variable\", \"value\"], axis = 1)\n",
    "business_pivot = business.pivot(index = \"business_id\", columns = \"variable\", values = \"value\")"
   ]
  },
  {
   "cell_type": "code",
   "execution_count": 24,
   "metadata": {
    "collapsed": false,
    "scrolled": true
   },
   "outputs": [],
   "source": [
    "business = business.drop_duplicates()\n",
    "\n",
    "\n",
    "business_pivot = business_pivot.reset_index()\n",
    "\n",
    "\n",
    "business = pd.merge(business, business_pivot, how = \"inner\", on = \"business_id\")\n"
   ]
  },
  {
   "cell_type": "code",
   "execution_count": 186,
   "metadata": {
    "collapsed": false,
    "scrolled": true
   },
   "outputs": [
    {
     "data": {
      "text/html": [
       "<div>\n",
       "<table border=\"1\" class=\"dataframe\">\n",
       "  <thead>\n",
       "    <tr style=\"text-align: right;\">\n",
       "      <th></th>\n",
       "      <th>hours.Tuesday.close_y</th>\n",
       "      <th>hours.Tuesday.open_y</th>\n",
       "    </tr>\n",
       "  </thead>\n",
       "  <tbody>\n",
       "    <tr>\n",
       "      <th>196</th>\n",
       "      <td>00:00</td>\n",
       "      <td>00:00</td>\n",
       "    </tr>\n",
       "    <tr>\n",
       "      <th>197</th>\n",
       "      <td>00:00</td>\n",
       "      <td>00:00</td>\n",
       "    </tr>\n",
       "    <tr>\n",
       "      <th>198</th>\n",
       "      <td>None</td>\n",
       "      <td>None</td>\n",
       "    </tr>\n",
       "    <tr>\n",
       "      <th>199</th>\n",
       "      <td>00:00</td>\n",
       "      <td>00:00</td>\n",
       "    </tr>\n",
       "    <tr>\n",
       "      <th>200</th>\n",
       "      <td>None</td>\n",
       "      <td>None</td>\n",
       "    </tr>\n",
       "  </tbody>\n",
       "</table>\n",
       "</div>"
      ],
      "text/plain": [
       "    hours.Tuesday.close_y hours.Tuesday.open_y\n",
       "196                 00:00                00:00\n",
       "197                 00:00                00:00\n",
       "198                  None                 None\n",
       "199                 00:00                00:00\n",
       "200                  None                 None"
      ]
     },
     "execution_count": 186,
     "metadata": {},
     "output_type": "execute_result"
    }
   ],
   "source": [
    "#Investigating if there are more spots in vegas open 24 hours on a weeknight in vegas \n",
    "#than non-vegas locations.\n",
    "business.loc[business.is_vegas == True, [\"hours.Tuesday.close_y\", \"hours.Tuesday.open_y\"]].head()\n"
   ]
  },
  {
   "cell_type": "code",
   "execution_count": 185,
   "metadata": {
    "collapsed": false,
    "scrolled": true
   },
   "outputs": [
    {
     "data": {
      "text/html": [
       "<div>\n",
       "<table border=\"1\" class=\"dataframe\">\n",
       "  <thead>\n",
       "    <tr style=\"text-align: right;\">\n",
       "      <th></th>\n",
       "      <th>hours.Tuesday.close_y</th>\n",
       "      <th>hours.Tuesday.open_y</th>\n",
       "    </tr>\n",
       "  </thead>\n",
       "  <tbody>\n",
       "    <tr>\n",
       "      <th>0</th>\n",
       "      <td>None</td>\n",
       "      <td>None</td>\n",
       "    </tr>\n",
       "    <tr>\n",
       "      <th>1</th>\n",
       "      <td>None</td>\n",
       "      <td>None</td>\n",
       "    </tr>\n",
       "    <tr>\n",
       "      <th>2</th>\n",
       "      <td>22:00</td>\n",
       "      <td>11:00</td>\n",
       "    </tr>\n",
       "    <tr>\n",
       "      <th>3</th>\n",
       "      <td>01:00</td>\n",
       "      <td>07:00</td>\n",
       "    </tr>\n",
       "    <tr>\n",
       "      <th>4</th>\n",
       "      <td>02:00</td>\n",
       "      <td>11:00</td>\n",
       "    </tr>\n",
       "  </tbody>\n",
       "</table>\n",
       "</div>"
      ],
      "text/plain": [
       "  hours.Tuesday.close_y hours.Tuesday.open_y\n",
       "0                  None                 None\n",
       "1                  None                 None\n",
       "2                 22:00                11:00\n",
       "3                 01:00                07:00\n",
       "4                 02:00                11:00"
      ]
     },
     "execution_count": 185,
     "metadata": {},
     "output_type": "execute_result"
    }
   ],
   "source": [
    "business.loc[business.is_vegas == False, [\"hours.Tuesday.close_y\", \"hours.Tuesday.open_y\"]].head()\n",
    "\n",
    "#There are too many missing values for the hours columns"
   ]
  },
  {
   "cell_type": "code",
   "execution_count": 25,
   "metadata": {
    "collapsed": true
   },
   "outputs": [],
   "source": [
    "hours_columns = [column for column in business.columns if \"hours\" in column]\n",
    "\n",
    "business = business.drop(hours_columns, axis = 1)\n"
   ]
  },
  {
   "cell_type": "code",
   "execution_count": 26,
   "metadata": {
    "collapsed": false
   },
   "outputs": [
    {
     "data": {
      "text/plain": [
       "(152832, 59)"
      ]
     },
     "execution_count": 26,
     "metadata": {},
     "output_type": "execute_result"
    }
   ],
   "source": [
    "\n",
    "attributes_columns = [column for column in business.columns if \"attributes\" in column]\n",
    "attributes_columns\n",
    "\n",
    "#which attributes might be useful for the model?\n",
    "binary_columns = [column for column in business.columns if len(business[column].unique()) <= 3]\n",
    "\n",
    "business = business.loc[:, [\"stars\", \"review_count\"] + binary_columns]\n",
    "\n",
    "business = business.fillna(value = 0)\n",
    "business = business.replace(to_replace = [\"True\", \"False\"], value = [1, 0])\n",
    "\n",
    "business.shape"
   ]
  },
  {
   "cell_type": "code",
   "execution_count": 28,
   "metadata": {
    "collapsed": false
   },
   "outputs": [
    {
     "data": {
      "text/plain": [
       "array([  2.83579719e-02,   1.70890623e-03,   3.08846747e-01,\n",
       "         0.00000000e+00,   1.16656597e-01,   1.27490436e-01,\n",
       "        -1.22738934e-01,  -1.14596752e-01,   2.87337080e-01,\n",
       "        -1.13689830e+00,   1.10902504e+00,  -7.46466988e-01,\n",
       "         1.81147983e-01,   1.30620190e+00,   3.78732716e-01,\n",
       "        -2.02441200e-01,   6.23390498e-01,   1.88747070e+00,\n",
       "         2.41964305e-01,   0.00000000e+00,  -3.48343985e-01,\n",
       "         0.00000000e+00,   0.00000000e+00,   0.00000000e+00,\n",
       "        -2.73145043e-01,  -2.29539033e+00,  -4.29493991e-01,\n",
       "        -2.06596109e-01,   3.60443007e-01,   8.41144655e-01,\n",
       "        -3.41702080e-01,   5.85125271e-01,   4.49465954e-01,\n",
       "        -5.69405153e-01,   6.05125019e-01,   2.18160954e-02,\n",
       "        -3.47475100e-01,  -1.27610453e-01,  -1.54803030e-01,\n",
       "        -5.20224072e-02,  -5.97786583e-02,  -5.33584391e-01,\n",
       "         3.76547171e-01,  -1.36449780e-01,  -5.22232331e-01,\n",
       "         1.41033819e+00,  -5.76259942e-01,  -1.09110823e+00,\n",
       "         1.41418825e+00,  -6.45245235e-03,  -7.66403884e-01,\n",
       "         3.73178972e-01,  -1.50193883e+00,  -2.79352976e-01,\n",
       "        -1.86780400e-01,  -6.91203108e-02,  -1.64717148e-01,\n",
       "        -1.98950329e-01])"
      ]
     },
     "execution_count": 28,
     "metadata": {},
     "output_type": "execute_result"
    }
   ],
   "source": [
    "#seperate \n",
    "y = business.is_vegas\n",
    "X = business.loc[:, business.columns != \"is_vegas\"]\n",
    "\n",
    "vegas_regression = LogisticRegression()\n",
    "\n",
    "cross_val_score(vegas_regression, X, y, cv = 10, scoring = \"accuracy\")\n",
    "\n",
    "vegas_regression.fit(X,y)\n",
    "\n",
    "\n"
   ]
  },
  {
   "cell_type": "code",
   "execution_count": 79,
   "metadata": {
    "collapsed": false,
    "scrolled": true
   },
   "outputs": [
    {
     "data": {
      "text/plain": [
       "[('attributes.Dietary Restrictions.vegetarian', -2.2953903335411647),\n",
       " ('attributes.Parking.validated', -1.5019388253884087),\n",
       " ('attributes.Ambience.romantic', -1.1368982973161363),\n",
       " ('attributes.Outdoor Seating', -1.0911082349518868),\n",
       " ('attributes.Good For Groups', 0.8411446551638467),\n",
       " ('attributes.Ambience.touristy', 1.1090250398341248),\n",
       " ('attributes.BYOB', 1.3062019029269818),\n",
       " ('attributes.Open 24 Hours', 1.4103381882576034),\n",
       " ('attributes.Parking.garage', 1.4141882544244038),\n",
       " ('attributes.Corkage', 1.8874706997261828)]"
      ]
     },
     "execution_count": 79,
     "metadata": {},
     "output_type": "execute_result"
    }
   ],
   "source": [
    "coeffs = vegas_regression.coef_\n",
    "\n",
    "coeffs = coeffs.tolist()[0]\n",
    "\n",
    "def n_max_index (lst, n):\n",
    "    copy = lst\n",
    "    output = []\n",
    "    for _ in range(n):\n",
    "        if max(copy) > abs(min(copy)):\n",
    "            output.append(copy.index(max(lst)))\n",
    "            copy[lst.index(max(lst))] = 0\n",
    "        else:\n",
    "            output.append(copy.index(min(lst)))\n",
    "            copy[lst.index(min(lst))] = 0\n",
    "    return output\n",
    "        \n",
    "topn = n_max_index(coeffs, 10)\n",
    "predictors = [column for column in  X.columns]\n",
    "\n",
    "\n",
    "top_predictors = [(predictors[i], coeffs[i]) for i in topn]\n",
    "\n",
    "#Top 10 most important coefficients in the model\n",
    "sorted(top_predictors, key = lambda x: x[1])\n"
   ]
  },
  {
   "cell_type": "markdown",
   "metadata": {},
   "source": [
    "An odd mixture of predictors contribute to the model's classification of restaurants as either in Las Vegas or not. These can be reviewed in the output above. Some of the strongest include: Vegetarian options, which negatively impacts the odds that a restaurant is located in LV. Offering corkage inflates the odds of a LV classification. And lastly, parking validation lowers the odds. I haven't yet had the chance to examine the statistical power of these coefficients or further tune the model to minimize bias. I will if I have time, but I have bigger fish to fry. "
   ]
  },
  {
   "cell_type": "markdown",
   "metadata": {},
   "source": []
  },
  {
   "cell_type": "markdown",
   "metadata": {},
   "source": [
    "<img src=\"http://imgur.com/l5NasQj.png\" style=\"float: left; margin: 25px 15px 0px 0px; height: 25px\">\n",
    "\n",
    "## 2. Different categories of ratings\n",
    "\n",
    "---\n",
    "\n",
    "Yelp is finally ready to admit that their rating system sucks. No one cares about the ratings, they just use the site to find out what's nearby. The ratings are simply too unreliable for people. \n",
    "\n",
    "Yelp hypothesizes that this is, in fact, because different people tend to give their ratings based on different things. They believe that perhaps some people always base their ratings on quality of food, others on service, and perhaps other categories as well. \n",
    "\n",
    "1. Do some users tend to talk about service more than others in reviews/tips? Divide up the tips/reviews into more \"service-focused\" ones and those less concerned with service.\n",
    "2. Create two new ratings for businesses: ratings from just the service-focused reviews and ratings from the non-service reviews.\n",
    "3. Construct a regression model for each of the two ratings. They should use the same predictor variables (of your choice). \n",
    "4. Validate the performance of the models.\n",
    "5. Do the models coefficients differ at all? What does this tell you about the hypothesis that there are in fact two different kinds of ratings?"
   ]
  },
  {
   "cell_type": "code",
   "execution_count": 83,
   "metadata": {
    "collapsed": false
   },
   "outputs": [
    {
     "data": {
      "text/plain": [
       "Index([u'user_id', u'review_id', u'votes.cool', u'business_id', u'votes.funny',\n",
       "       u'stars', u'date', u'votes.useful', u'10 minutes', u'15 minutes',\n",
       "       ...\n",
       "       u'service great', u'staff friendly', u'super friendly', u'sweet potato',\n",
       "       u'tasted like', u'time vegas', u'try place', u've seen', u've tried',\n",
       "       u'wait staff'],\n",
       "      dtype='object', length=108)"
      ]
     },
     "execution_count": 83,
     "metadata": {},
     "output_type": "execute_result"
    }
   ],
   "source": [
    "reviews = pd.read_csv(\"/Users/augustus/Desktop/DSI_notes_assignments/projects/project4/yelp_arizona_data/reviews_small_nlp_parsed.csv\")\n",
    "\n",
    "reviews.columns"
   ]
  },
  {
   "cell_type": "code",
   "execution_count": 93,
   "metadata": {
    "collapsed": false
   },
   "outputs": [],
   "source": [
    "#k = 0\n",
    "#for i in reviews.columns:\n",
    "#    print i, k\n",
    "#    k += 1\n",
    "    \n",
    "\n",
    "#rough sorting of keyword columns     \n",
    "service_cols = [\"10 minutes\",\n",
    "               \"15 minutes\",\n",
    "               \"30 minutes\",\n",
    "               \"bottle service\",\n",
    "               \"customer service\",\n",
    "               \"dance floor\",\n",
    "               \"fast food\",\n",
    "               \"friendly staff\",\n",
    "               \"good service\",\n",
    "                \"great atmosphere\",\n",
    "                \"great service\",\n",
    "                \"hip hop\",\n",
    "                \"minutes later\",\n",
    "                \"right away\",\n",
    "                \"service excellent\",\n",
    "                \"service friendly\",\n",
    "                \"service good\",\n",
    "                \"service great\",\n",
    "                \"staff friendly\",\n",
    "                \"super friendly\",\n",
    "                \"wait staff\"\n",
    "                 ]\n",
    "\n",
    "food_cols = [\"bar food\",\n",
    "             \"beer selection\",\n",
    "             \"bloody mary\",\n",
    "             \"chicken waffles\",\n",
    "              \"eggs benedict\",\n",
    "              \"fish chips\",\n",
    "              \"food amazing\",\n",
    "              \"food delicious\",\n",
    "              \"food good\",\n",
    "              \"food great\",\n",
    "              \"french fries\",\n",
    "              \"french toast\",\n",
    "              \"fried chicken\",\n",
    "              \"good food\",\n",
    "              \"great food\",\n",
    "              \"hash browns\",\n",
    "              \"ice cream\",\n",
    "              \"mac cheese\",\n",
    "              \"mashed potatoes\",\n",
    "              \"medium rare\",\n",
    "              \"onion rings\",\n",
    "              \"potato fries\",\n",
    "              \"quality food\",\n",
    "              \"red velvet\",\n",
    "              \"tasted like\",\n",
    "              \"sweet potato\" \n",
    "             ]\n",
    "\n"
   ]
  },
  {
   "cell_type": "code",
   "execution_count": 99,
   "metadata": {
    "collapsed": false
   },
   "outputs": [
    {
     "data": {
      "text/plain": [
       "0     186793\n",
       "1      81731\n",
       "2      32628\n",
       "3      12993\n",
       "4       4880\n",
       "5       1911\n",
       "6        769\n",
       "7        371\n",
       "8        162\n",
       "9         79\n",
       "10        47\n",
       "11        16\n",
       "13         8\n",
       "12         7\n",
       "14         2\n",
       "15         1\n",
       "dtype: int64"
      ]
     },
     "execution_count": 99,
     "metadata": {},
     "output_type": "execute_result"
    }
   ],
   "source": [
    "reviews[service_cols + food_cols].apply(sum, axis= 1).value_counts()\n",
    "#over half of all reviews don't contain any of the relevant keywords in either the food\n",
    "#or service columns."
   ]
  },
  {
   "cell_type": "code",
   "execution_count": null,
   "metadata": {
    "collapsed": true
   },
   "outputs": [],
   "source": [
    "#Given the sparsity of the review keyword data I have two options:\n",
    "#1. Merge with the tips keyword dataframe\n",
    "#2. group by user_id to assess their overall interest in service versus food\n",
    "\n",
    "#I'll try grouping by user_id first, hopefully that will inflate the row counts enough to make\n",
    "#a good judgement of whether a user is more focused on service or other factors."
   ]
  },
  {
   "cell_type": "code",
   "execution_count": 109,
   "metadata": {
    "collapsed": false
   },
   "outputs": [],
   "source": [
    "reviews.groupby(\"user_id\").sum().apply(sum, axis = 1).value_counts().nlargest(10)\n",
    "\n",
    "#This is a little better. I should be able to classify users as more or less service focused \n",
    "#because the vast majority of users have more than two mentions of any of the keywords.\n",
    "#Yet I still wouldn't be able to classify individual reviews.\n",
    "\n",
    "#Maybe if a reviewer is known to be service focused then I could categorize all of his reviews\n",
    "#as being concerned with service. After that I could, give each business cumulative scores in \n",
    "#terms of both service and food. \n",
    "\n",
    "#The key (silly) assumption at play for that strategy is that if a reviewer tends to be more\n",
    "#concerned with service then all of their reviews must be exclusively related to service. I \n",
    "#don't see any way around that at this point.\n",
    "\n"
   ]
  },
  {
   "cell_type": "code",
   "execution_count": 112,
   "metadata": {
    "collapsed": false
   },
   "outputs": [],
   "source": [
    "reviews_grouped = reviews.groupby(\"user_id\").sum()\n",
    "\n"
   ]
  },
  {
   "cell_type": "code",
   "execution_count": 151,
   "metadata": {
    "collapsed": false
   },
   "outputs": [
    {
     "data": {
      "text/plain": [
       "0       37015\n",
       "5       34368\n",
       "10      23456\n",
       "15      14859\n",
       "20       9259\n",
       "25       6087\n",
       "30       4000\n",
       "35       2867\n",
       "40       2090\n",
       "45       1556\n",
       "50       1174\n",
       "55       1042\n",
       "60        794\n",
       "65        640\n",
       "70        525\n",
       "75        434\n",
       "80        367\n",
       "85        322\n",
       "95        264\n",
       "90        264\n",
       "100       219\n",
       "110       167\n",
       "105       157\n",
       "115       148\n",
       "120       141\n",
       "125       114\n",
       "140       111\n",
       "130        97\n",
       "135        95\n",
       "150        86\n",
       "        ...  \n",
       "690         1\n",
       "1775        1\n",
       "680         1\n",
       "1320        1\n",
       "875         1\n",
       "560         1\n",
       "810         1\n",
       "555         1\n",
       "1455        1\n",
       "1070        1\n",
       "625         1\n",
       "1825        1\n",
       "1580        1\n",
       "1185        1\n",
       "1220        1\n",
       "1125        1\n",
       "1050        1\n",
       "1690        1\n",
       "630         1\n",
       "795         1\n",
       "1090        1\n",
       "960         1\n",
       "1255        1\n",
       "670         1\n",
       "1000        1\n",
       "745         1\n",
       "800         1\n",
       "1440        1\n",
       "1720        1\n",
       "895         1\n",
       "Name: total_mentions, dtype: int64"
      ]
     },
     "execution_count": 151,
     "metadata": {},
     "output_type": "execute_result"
    }
   ],
   "source": [
    "#Now I can aggregate some kind of focus score for each user.\n",
    "#A good metric for food/interest scores would be proportion of total mentions\n",
    "reviews_grouped[\"total_mentions\"] = reviews_grouped.iloc[:,4:].sum(axis = 1)\n",
    "\n",
    "reviews_grouped.total_mentions.value_counts()\n",
    "\n"
   ]
  },
  {
   "cell_type": "code",
   "execution_count": 152,
   "metadata": {
    "collapsed": false
   },
   "outputs": [
    {
     "name": "stdout",
     "output_type": "stream",
     "text": [
      "44 columns in common\n"
     ]
    }
   ],
   "source": [
    "#time to investigate the tips dataset to see if it might be useful to merge with the reviews\n",
    "#keyword dataset.\n",
    "\n",
    "tips = pd.read_csv(\"/Users/augustus/Desktop/DSI_notes_assignments/projects/project4/yelp_arizona_data/tips_small_nlp_parsed.csv\")\n",
    "\n",
    "#UGH this dataset doesn't have the same keyword columns as the reviews set >:-(\n",
    "\n",
    "#lets 2look at the intersection between the reviews keyword columns and the tips columns\n",
    "\n",
    "reviews_cols = reviews_grouped.columns.tolist()\n",
    "tips_cols = tips.columns.tolist()\n",
    "\n",
    "print len(filter(lambda x: x in tips_cols, reviews_cols)), \"columns in common\"\n",
    "\n",
    "#I have a few choices now. I could only focus on the on the columns in the tips dataset that \n",
    "#also exist in the reviews dataset. Or I could encorporate all columns from both dataset and \n",
    "#then take the time to hand-categorize the keywords into the \"service_cols\" and \"food_cols\" \n",
    "#list. To help make that decision lets compare the number of unique users for both datasets.\n",
    "\n"
   ]
  },
  {
   "cell_type": "code",
   "execution_count": 150,
   "metadata": {
    "collapsed": false
   },
   "outputs": [
    {
     "name": "stdout",
     "output_type": "stream",
     "text": [
      "tips shape:  (35369, 101)\n",
      "reviews shape:  (144206, 105)\n",
      "24869\n"
     ]
    }
   ],
   "source": [
    "print \"tips shape: \", tips.groupby(\"user_id\").sum().shape\n",
    "print \"reviews shape: \", reviews_grouped.shape\n",
    "\n",
    "#Reviews has 4x the number of unique users\n",
    "\n",
    "#Lets look at the intersection of users for both dataframes:\n",
    "\n",
    "reviews_users = reviews_grouped.index.values.tolist()\n",
    "tips_users = tips.groupby(\"user_id\").sum().index.values.tolist()\n",
    "\n",
    "print len(filter(lambda x: x in reviews_users, tips_users))\n",
    "#The users intersection is 24,869, which is only a small fraction of the total users who review\n",
    "\n",
    "#I going to just opt to ignore the tips dataframe beause there aren't enough shared users with \n",
    "#the reviews frame"
   ]
  },
  {
   "cell_type": "code",
   "execution_count": 164,
   "metadata": {
    "collapsed": false
   },
   "outputs": [
    {
     "data": {
      "text/plain": [
       "service_focused    3244\n",
       "food_focused       6291\n",
       "dtype: int64"
      ]
     },
     "execution_count": 164,
     "metadata": {},
     "output_type": "execute_result"
    }
   ],
   "source": [
    "# Because of the sparsity of the data, i have decided it is impossible to classify every review,\n",
    "#or even every, user as more focused on service, or non-service aspects. Instead, to generate \n",
    "#the partitioned ratings, I am going to only use reviews that are strongly polar.\n",
    "\n",
    "reviews[\"service_count\"] = reviews[service_cols].sum(axis=1)\n",
    "reviews[\"food_count\"] = reviews[food_cols].sum(axis=1)\n",
    "\n",
    "#time to create that metric for choosing polar reviews. positive polarity values indicate \n",
    "#interest in service and vice versa.\n",
    "reviews[\"polarity\"] = reviews.service_count - reviews.food_count\n",
    "\n",
    "reviews.polarity.value_counts()\n",
    "\n",
    "#I semi-arbitrarily pick |3| as the cut off for polar reviews\n",
    "reviews[\"service_focused\"] = reviews.polarity.map(lambda x: x >= 3)\n",
    "reviews[\"food_focused\"] = reviews.polarity.map(lambda x: x <= -3)\n",
    "\n",
    "reviews[[\"service_focused\", \"food_focused\"]].sum()\n",
    "#This leaves us ~9500 polar reviews to construct partitioned yelp ratings "
   ]
  },
  {
   "cell_type": "code",
   "execution_count": 195,
   "metadata": {
    "collapsed": false
   },
   "outputs": [],
   "source": [
    "def partition_stars_service(row):\n",
    "    if row.values[111]:\n",
    "        return row.values[5]\n",
    "    else:\n",
    "        return None\n",
    "    \n",
    "def partition_stars_food(row):\n",
    "    if row.values[112]:\n",
    "        return row.values[5]\n",
    "    else:\n",
    "        return None\n",
    "    \n",
    "#finally create the service and food rating columns\n",
    "reviews[\"service_rating\"] = reviews.apply(partition_stars_service, axis=1)\n",
    "reviews[\"food_rating\"] = reviews.apply(partition_stars_food, axis=1)\n",
    "\n"
   ]
  },
  {
   "cell_type": "code",
   "execution_count": 204,
   "metadata": {
    "collapsed": false
   },
   "outputs": [
    {
     "data": {
      "text/plain": [
       "service_rating    986\n",
       "food_rating       903\n",
       "dtype: int64"
      ]
     },
     "execution_count": 204,
     "metadata": {},
     "output_type": "execute_result"
    }
   ],
   "source": [
    "reviews.groupby(\"business_id\")[[\"service_rating\", \"food_rating\"]].mean().notnull().sum()\n",
    "\n",
    "\n",
    "#There are far too many businesses that still do not have a single polar review. About 3/4\n",
    "#of the business are null. This was my fault because my definition of a service related review\n",
    "#was a bit too precise, but as far as I'm concerned loosening up the criteria would render \n",
    "#modeling that data totally un-informative."
   ]
  },
  {
   "cell_type": "markdown",
   "metadata": {},
   "source": [
    "<img src=\"http://imgur.com/l5NasQj.png\" style=\"float: left; margin: 25px 15px 0px 0px; height: 25px\">\n",
    "\n",
    "## 3. Identifying \"elite\" users\n",
    "\n",
    "---\n",
    "\n",
    "Yelp, though having their own formula for determining whether a user is elite or not, is interested in delving deeper into what differentiates an elite user from a normal user at a broader level.\n",
    "\n",
    "Use a classification model to predict whether a user is elite or not. Note that users can be elite in some years and not in others.\n",
    "\n",
    "1. What things predict well whether a user is elite or not?\n",
    "- Validate the model.\n",
    "- If you were to remove the \"counts\" metrics for users (reviews, votes, compliments), what distinguishes an elite user, if anything? Validate the model and compare it to the one with the count variables.\n",
    "- Think of a way to visually represent your results in a compelling way.\n",
    "- Give a brief write-up of your findings.\n"
   ]
  },
  {
   "cell_type": "code",
   "execution_count": 104,
   "metadata": {
    "collapsed": false
   },
   "outputs": [],
   "source": [
    "users = pd.read_csv(\"/Users/augustus/Desktop/DSI_notes_assignments/projects/project4/yelp_arizona_data/users_small_parsed.csv\")"
   ]
  },
  {
   "cell_type": "markdown",
   "metadata": {},
   "source": [
    "<img src=\"http://imgur.com/GCAf1UX.png\" style=\"float: left; margin: 25px 15px 0px 0px; height: 25px\">\n",
    "\n",
    "## 4. Find something interesting on your own\n",
    "\n",
    "---\n",
    "\n",
    "You want to impress your superiors at Yelp by doing some investigation into the data on your own. You want to do classification, but you're not sure on what.\n",
    "\n",
    "1. Create a hypothesis or hypotheses about the data based on whatever you are interested in, as long as it is predicting a category of some kind (classification).\n",
    "2. Explore the data visually (ideally related to this hypothesis).\n",
    "3. Build one or more classification models to predict your target variable. **Your modeling should include gridsearching to find optimal model parameters.**\n",
    "4. Evaluate the performance of your model. Explain why your model may have chosen those specific parameters during the gridsearch process.\n",
    "5. Write up what the model tells you. Does it validate or invalidate your hypothesis? Write this up as if for a non-technical audience."
   ]
  },
  {
   "cell_type": "code",
   "execution_count": null,
   "metadata": {
    "collapsed": true
   },
   "outputs": [],
   "source": []
  },
  {
   "cell_type": "markdown",
   "metadata": {},
   "source": [
    "<img src=\"http://imgur.com/GCAf1UX.png\" style=\"float: left; margin: 25px 15px 0px 0px; height: 25px\">\n",
    "\n",
    "## 5. ROC and Precision-recall\n",
    "\n",
    "---\n",
    "\n",
    "Some categories have fewer overall businesses than others. Choose two categories of businesses to predict, one that makes your proportion of target classes as even as possible, and another that has very few businesses and thus makes the target varible imbalanced.\n",
    "\n",
    "1. Create two classification models predicting these categories. Optimize the models and choose variables as you see fit.\n",
    "- Make confusion matrices for your models. Describe the confusion matrices and explain what they tell you about your models' performance.\n",
    "- Make ROC curves for both models. What do the ROC curves describe and what do they tell you about your model?\n",
    "- Make Precision-Recall curves for the models. What do they describe? How do they compare to the ROC curves?\n",
    "- Explain when Precision-Recall may be preferable to ROC. Is that the case in either of your models?"
   ]
  },
  {
   "cell_type": "markdown",
   "metadata": {
    "collapsed": true
   },
   "source": [
    "## OOP, Stochastic Gradient Descent, and Linear Algebra\n",
    "\n",
    "---\n",
    "\n",
    "In this part of the project, you will implement machine learning algorithms we have covered in class from scratch. \n",
    "\n",
    "--- "
   ]
  },
  {
   "cell_type": "markdown",
   "metadata": {},
   "source": [
    "<img src=\"http://imgur.com/GCAf1UX.png\" style=\"float: left; margin: 25px 15px 0px 0px; height: 25px\">\n",
    "\n",
    "### 6. Extend the `LinearRegrssion` class to include the following: \n",
    "\n",
    "- Calculate confidence intervals at X% on the $\\beta$ coefficients and predicted y value when the model is not regularized. Here is a good overview of calculating confidence intervals: http://imgur.com/a/O1ZFk\n",
    "\n",
    "\n",
    "\n",
    "- An option to regularize the model with Ridge Regression. The method should automatically calculate the best `alpha` for the user. The closed form solution for Ridge Regression may be helpful [Hint: Think of the `n_alphas` parameter in sklearn]\n",
    "\n",
    "Protip: Compare if your implemenation works by applying it on the Diabetes Dataset and seeing it how it compares to opensource implemenations in `sklearn` and `statsmodels`. \n",
    "\n",
    "http://statsmodels.sourceforge.net/devel/examples/#regression\n",
    "\n",
    "http://scikit-learn.org/stable/auto_examples/linear_model/plot_ols.html"
   ]
  },
  {
   "cell_type": "markdown",
   "metadata": {},
   "source": [
    "<img src=\"http://imgur.com/GCAf1UX.png\" style=\"float: left; margin: 25px 15px 0px 0px; height: 25px\">\n",
    "\n",
    "### 7. Extend the `NearestNeighbor` class such that the fit method doesn't use a `for loop`\n"
   ]
  },
  {
   "cell_type": "markdown",
   "metadata": {},
   "source": [
    "<img src=\"http://imgur.com/GCAf1UX.png\" style=\"float: left; margin: 25px 15px 0px 0px; height: 25px\">\n",
    "\n",
    "### 8. Implement `LogisticRegression` that fits the model using Stochastic Gradient Descent. \n",
    "\n",
    "Check if the results of your `LogisticRegression` implementation matches with the Sklearn implementation: http://scikit-learn.org/stable/modules/generated/sklearn.linear_model.LogisticRegression.html"
   ]
  },
  {
   "cell_type": "markdown",
   "metadata": {},
   "source": [
    "<img src=\"http://imgur.com/GCAf1UX.png\" style=\"float: left; margin: 25px 15px 0px 0px; height: 25px\">\n",
    "### 9. Singular Value Decomposition \n",
    "\n",
    "- Read articles on image compression with SVD and use `numpy` apply it to images from the MNIST Datasets. To get the MNIST Datset, use the following comands. Note that the `mnist` data has shape `(70000, 784)`. You will need to convert it to 28x28 images [Hint: `np.reshape`]. \n",
    "       \n",
    "       from sklearn.datasets import fetch_mldata\n",
    "       mnist = fetch_mldata('MNIST original', data_home=custom_data_home)\n",
    "\n",
    "    https://inst.eecs.berkeley.edu/~ee127a/book/login/l_svd_apps_image.html\n",
    "\n",
    "    http://www.frankcleary.com/svdimage/\n",
    "    \n",
    "    \n",
    "- Apply Logistic Regression to classify MNIST Images. This may require having the images be `784` dimensions rather than `28x28`. Compare results of the classifier on a test set when you apply it on the raw dataset vs. the compressed version of dataset from SVD. "
   ]
  },
  {
   "cell_type": "code",
   "execution_count": 4,
   "metadata": {
    "collapsed": true
   },
   "outputs": [],
   "source": [
    "%matplotlib inline\n",
    "import matplotlib.pyplot as plt\n",
    "import time\n",
    "from PIL import Image"
   ]
  },
  {
   "cell_type": "code",
   "execution_count": 5,
   "metadata": {
    "collapsed": false,
    "scrolled": false
   },
   "outputs": [
    {
     "name": "stdout",
     "output_type": "stream",
     "text": [
      "(70000, 784)\n"
     ]
    },
    {
     "data": {
      "text/plain": [
       "<matplotlib.image.AxesImage at 0x1226d1b90>"
      ]
     },
     "execution_count": 5,
     "metadata": {},
     "output_type": "execute_result"
    },
    {
     "data": {
      "image/png": "[encoded data removed]",
      "text/plain": [
       "<matplotlib.figure.Figure at 0x11e285550>"
      ]
     },
     "metadata": {
      "image/png": {
       "height": 254,
       "width": 255
      }
     },
     "output_type": "display_data"
    }
   ],
   "source": [
    "from sklearn.datasets import fetch_mldata\n",
    "mnist = fetch_mldata('MNIST original')\n",
    "\n",
    "mnist_data = mnist[\"data\"]\n",
    "print mnist_data.shape\n",
    "\n",
    "mnist_data_shaped = np.reshape(mnist_data, (70000, 28, 28))\n",
    "\n",
    "plt.imshow(mnist_data_shaped[0,:,:], cmap = \"gray\")"
   ]
  },
  {
   "cell_type": "code",
   "execution_count": 256,
   "metadata": {
    "collapsed": true
   },
   "outputs": [],
   "source": [
    "dig = mnist_data_shaped[0,:,:]\n"
   ]
  },
  {
   "cell_type": "code",
   "execution_count": 258,
   "metadata": {
    "collapsed": false,
    "scrolled": true
   },
   "outputs": [],
   "source": [
    "U, sigma, V = np.linalg.svd(dig)"
   ]
  },
  {
   "cell_type": "code",
   "execution_count": 24,
   "metadata": {
    "collapsed": false
   },
   "outputs": [
    {
     "ename": "NameError",
     "evalue": "name 'U' is not defined",
     "output_type": "error",
     "traceback": [
      "\u001b[0;31m---------------------------------------------------------------------------\u001b[0m",
      "\u001b[0;31mNameError\u001b[0m                                 Traceback (most recent call last)",
      "\u001b[0;32m<ipython-input-24-3c2932f02b0d>\u001b[0m in \u001b[0;36m<module>\u001b[0;34m()\u001b[0m\n\u001b[0;32m----> 1\u001b[0;31m \u001b[0mreconst_dig\u001b[0m \u001b[0;34m=\u001b[0m \u001b[0mnp\u001b[0m\u001b[0;34m.\u001b[0m\u001b[0mmatrix\u001b[0m\u001b[0;34m(\u001b[0m\u001b[0mU\u001b[0m\u001b[0;34m[\u001b[0m\u001b[0;34m:\u001b[0m\u001b[0;34m,\u001b[0m \u001b[0;34m:\u001b[0m\u001b[0;36m3\u001b[0m\u001b[0;34m]\u001b[0m\u001b[0;34m)\u001b[0m \u001b[0;34m*\u001b[0m \u001b[0mnp\u001b[0m\u001b[0;34m.\u001b[0m\u001b[0mdiag\u001b[0m\u001b[0;34m(\u001b[0m\u001b[0msigma\u001b[0m\u001b[0;34m[\u001b[0m\u001b[0;34m:\u001b[0m\u001b[0;36m3\u001b[0m\u001b[0;34m]\u001b[0m\u001b[0;34m)\u001b[0m \u001b[0;34m*\u001b[0m \u001b[0mnp\u001b[0m\u001b[0;34m.\u001b[0m\u001b[0mmatrix\u001b[0m\u001b[0;34m(\u001b[0m\u001b[0mV\u001b[0m\u001b[0;34m[\u001b[0m\u001b[0;34m:\u001b[0m\u001b[0;36m3\u001b[0m\u001b[0;34m,\u001b[0m \u001b[0;34m:\u001b[0m\u001b[0;34m]\u001b[0m\u001b[0;34m)\u001b[0m\u001b[0;34m\u001b[0m\u001b[0m\n\u001b[0m\u001b[1;32m      2\u001b[0m \u001b[0mplt\u001b[0m\u001b[0;34m.\u001b[0m\u001b[0mimshow\u001b[0m\u001b[0;34m(\u001b[0m\u001b[0mreconst_dig\u001b[0m\u001b[0;34m,\u001b[0m \u001b[0mcmap\u001b[0m\u001b[0;34m=\u001b[0m\u001b[0;34m'gray'\u001b[0m\u001b[0;34m)\u001b[0m\u001b[0;34m\u001b[0m\u001b[0m\n",
      "\u001b[0;31mNameError\u001b[0m: name 'U' is not defined"
     ]
    }
   ],
   "source": [
    "reconst_dig = np.matrix(U[:, :3]) * np.diag(sigma[:3]) * np.matrix(V[:3, :])\n",
    "plt.imshow(reconst_dig, cmap='gray');\n",
    "#cool!"
   ]
  },
  {
   "cell_type": "code",
   "execution_count": null,
   "metadata": {
    "collapsed": false
   },
   "outputs": [],
   "source": []
  },
  {
   "cell_type": "code",
   "execution_count": 14,
   "metadata": {
    "collapsed": false
   },
   "outputs": [],
   "source": [
    "#fitting a model on a 7000 images will be way too computationally expensive. Before I fit on \n",
    "#compressed images, I will have to fit on a sample from the database. I believe the digits \n",
    "#are placed in sequential order in the mnist data, so it is important to randomly sample.\n",
    "\n",
    "mnist_frame = pd.DataFrame(mnist_data)\n",
    "mnist_frame[\"target\"] = mnist[\"target\"]\n",
    "\n",
    "#randomly sample 1/10 of the mnist data for training\n",
    "X = mnist_frame.sample(frac = 0.1)\n",
    "\n",
    "y = X[\"target\"]"
   ]
  },
  {
   "cell_type": "code",
   "execution_count": 16,
   "metadata": {
    "collapsed": false
   },
   "outputs": [],
   "source": [
    "X = X.drop(\"target\", axis = 1)"
   ]
  },
  {
   "cell_type": "code",
   "execution_count": 25,
   "metadata": {
    "collapsed": false
   },
   "outputs": [
    {
     "ename": "KeyboardInterrupt",
     "evalue": "",
     "output_type": "error",
     "traceback": [
      "\u001b[0;31m---------------------------------------------------------------------------\u001b[0m",
      "\u001b[0;31mKeyboardInterrupt\u001b[0m                         Traceback (most recent call last)",
      "\u001b[0;32m<ipython-input-25-15ca772fd434>\u001b[0m in \u001b[0;36m<module>\u001b[0;34m()\u001b[0m\n\u001b[1;32m      1\u001b[0m \u001b[0mreg_uncompressed\u001b[0m \u001b[0;34m=\u001b[0m \u001b[0mLogisticRegression\u001b[0m\u001b[0;34m(\u001b[0m\u001b[0;34m)\u001b[0m\u001b[0;34m\u001b[0m\u001b[0m\n\u001b[0;32m----> 2\u001b[0;31m \u001b[0mreg_uncompressed\u001b[0m\u001b[0;34m.\u001b[0m\u001b[0mfit\u001b[0m\u001b[0;34m(\u001b[0m\u001b[0mX\u001b[0m\u001b[0;34m,\u001b[0m\u001b[0my\u001b[0m\u001b[0;34m)\u001b[0m\u001b[0;34m\u001b[0m\u001b[0m\n\u001b[0m\u001b[1;32m      3\u001b[0m \u001b[0;34m\u001b[0m\u001b[0m\n\u001b[1;32m      4\u001b[0m \u001b[0;31m#Warning this might take awhile\u001b[0m\u001b[0;34m\u001b[0m\u001b[0;34m\u001b[0m\u001b[0m\n\u001b[1;32m      5\u001b[0m \u001b[0mcross_val_score\u001b[0m\u001b[0;34m(\u001b[0m\u001b[0mreg_uncompressed\u001b[0m\u001b[0;34m,\u001b[0m \u001b[0mX\u001b[0m\u001b[0;34m,\u001b[0m \u001b[0my\u001b[0m\u001b[0;34m,\u001b[0m \u001b[0mcv\u001b[0m \u001b[0;34m=\u001b[0m \u001b[0;36m5\u001b[0m\u001b[0;34m,\u001b[0m \u001b[0mn_jobs\u001b[0m \u001b[0;34m=\u001b[0m \u001b[0;34m-\u001b[0m\u001b[0;36m1\u001b[0m\u001b[0;34m)\u001b[0m\u001b[0;34m\u001b[0m\u001b[0m\n",
      "\u001b[0;32m//anaconda/envs/dsi/lib/python2.7/site-packages/sklearn/linear_model/logistic.pyc\u001b[0m in \u001b[0;36mfit\u001b[0;34m(self, X, y, sample_weight)\u001b[0m\n\u001b[1;32m   1185\u001b[0m                 \u001b[0mself\u001b[0m\u001b[0;34m.\u001b[0m\u001b[0mclass_weight\u001b[0m\u001b[0;34m,\u001b[0m \u001b[0mself\u001b[0m\u001b[0;34m.\u001b[0m\u001b[0mpenalty\u001b[0m\u001b[0;34m,\u001b[0m \u001b[0mself\u001b[0m\u001b[0;34m.\u001b[0m\u001b[0mdual\u001b[0m\u001b[0;34m,\u001b[0m \u001b[0mself\u001b[0m\u001b[0;34m.\u001b[0m\u001b[0mverbose\u001b[0m\u001b[0;34m,\u001b[0m\u001b[0;34m\u001b[0m\u001b[0m\n\u001b[1;32m   1186\u001b[0m                 \u001b[0mself\u001b[0m\u001b[0;34m.\u001b[0m\u001b[0mmax_iter\u001b[0m\u001b[0;34m,\u001b[0m \u001b[0mself\u001b[0m\u001b[0;34m.\u001b[0m\u001b[0mtol\u001b[0m\u001b[0;34m,\u001b[0m \u001b[0mself\u001b[0m\u001b[0;34m.\u001b[0m\u001b[0mrandom_state\u001b[0m\u001b[0;34m,\u001b[0m\u001b[0;34m\u001b[0m\u001b[0m\n\u001b[0;32m-> 1187\u001b[0;31m                 sample_weight=sample_weight)\n\u001b[0m\u001b[1;32m   1188\u001b[0m             \u001b[0mself\u001b[0m\u001b[0;34m.\u001b[0m\u001b[0mn_iter_\u001b[0m \u001b[0;34m=\u001b[0m \u001b[0mnp\u001b[0m\u001b[0;34m.\u001b[0m\u001b[0marray\u001b[0m\u001b[0;34m(\u001b[0m\u001b[0;34m[\u001b[0m\u001b[0mn_iter_\u001b[0m\u001b[0;34m]\u001b[0m\u001b[0;34m)\u001b[0m\u001b[0;34m\u001b[0m\u001b[0m\n\u001b[1;32m   1189\u001b[0m             \u001b[0;32mreturn\u001b[0m \u001b[0mself\u001b[0m\u001b[0;34m\u001b[0m\u001b[0m\n",
      "\u001b[0;32m//anaconda/envs/dsi/lib/python2.7/site-packages/sklearn/svm/base.pyc\u001b[0m in \u001b[0;36m_fit_liblinear\u001b[0;34m(X, y, C, fit_intercept, intercept_scaling, class_weight, penalty, dual, verbose, max_iter, tol, random_state, multi_class, loss, epsilon, sample_weight)\u001b[0m\n\u001b[1;32m    910\u001b[0m         \u001b[0mX\u001b[0m\u001b[0;34m,\u001b[0m \u001b[0my_ind\u001b[0m\u001b[0;34m,\u001b[0m \u001b[0msp\u001b[0m\u001b[0;34m.\u001b[0m\u001b[0misspmatrix\u001b[0m\u001b[0;34m(\u001b[0m\u001b[0mX\u001b[0m\u001b[0;34m)\u001b[0m\u001b[0;34m,\u001b[0m \u001b[0msolver_type\u001b[0m\u001b[0;34m,\u001b[0m \u001b[0mtol\u001b[0m\u001b[0;34m,\u001b[0m \u001b[0mbias\u001b[0m\u001b[0;34m,\u001b[0m \u001b[0mC\u001b[0m\u001b[0;34m,\u001b[0m\u001b[0;34m\u001b[0m\u001b[0m\n\u001b[1;32m    911\u001b[0m         \u001b[0mclass_weight_\u001b[0m\u001b[0;34m,\u001b[0m \u001b[0mmax_iter\u001b[0m\u001b[0;34m,\u001b[0m \u001b[0mrnd\u001b[0m\u001b[0;34m.\u001b[0m\u001b[0mrandint\u001b[0m\u001b[0;34m(\u001b[0m\u001b[0mnp\u001b[0m\u001b[0;34m.\u001b[0m\u001b[0miinfo\u001b[0m\u001b[0;34m(\u001b[0m\u001b[0;34m'i'\u001b[0m\u001b[0;34m)\u001b[0m\u001b[0;34m.\u001b[0m\u001b[0mmax\u001b[0m\u001b[0;34m)\u001b[0m\u001b[0;34m,\u001b[0m\u001b[0;34m\u001b[0m\u001b[0m\n\u001b[0;32m--> 912\u001b[0;31m         epsilon, sample_weight)\n\u001b[0m\u001b[1;32m    913\u001b[0m     \u001b[0;31m# Regarding rnd.randint(..) in the above signature:\u001b[0m\u001b[0;34m\u001b[0m\u001b[0;34m\u001b[0m\u001b[0m\n\u001b[1;32m    914\u001b[0m     \u001b[0;31m# seed for srand in range [0..INT_MAX); due to limitations in Numpy\u001b[0m\u001b[0;34m\u001b[0m\u001b[0;34m\u001b[0m\u001b[0m\n",
      "\u001b[0;31mKeyboardInterrupt\u001b[0m: "
     ]
    }
   ],
   "source": [
    "reg_uncompressed = LogisticRegression()\n",
    "reg_uncompressed.fit(X,y)\n",
    "\n",
    "#Warning this might take awhile\n",
    "cross_val_score(reg_uncompressed, X, y, cv = 5, n_jobs = -1)"
   ]
  },
  {
   "cell_type": "code",
   "execution_count": 34,
   "metadata": {
    "collapsed": false
   },
   "outputs": [],
   "source": [
    "#Time to try compressing the imagedata\n",
    "\n",
    "def svd_compress(image_vector, n_dim = 50, preview = False):\n",
    "    \"\"\"\n",
    "    compresses a 1-d mnist image vector to the n_dim singular values.\n",
    "    \"\"\"\n",
    "    image_matrix = np.reshape(image_vector, (28,28))\n",
    "    U, sigma, V = np.linalg.svd(image_matrix)\n",
    "    \n",
    "    reconst_image = np.matrix(U[:, :n_dim]) * np.diag(sigma[:n_dim]) * np.matrix(V[:n_dim, :])\n",
    "    \n",
    "    if preview:\n",
    "        plt.imshow(reconst_image, cmap='gray')\n",
    "    \n",
    "    return np.reshape(reconst_image, (784))\n",
    "\n",
    "#svd_compress(mnist_data[62000, :], preview = True)\n",
    "\n"
   ]
  },
  {
   "cell_type": "code",
   "execution_count": 44,
   "metadata": {
    "collapsed": false
   },
   "outputs": [
    {
     "ename": "ValueError",
     "evalue": "could not broadcast input array from shape (784) into shape (1)",
     "output_type": "error",
     "traceback": [
      "\u001b[0;31m---------------------------------------------------------------------------\u001b[0m",
      "\u001b[0;31mValueError\u001b[0m                                Traceback (most recent call last)",
      "\u001b[0;32m<ipython-input-44-cc3d3095622c>\u001b[0m in \u001b[0;36m<module>\u001b[0;34m()\u001b[0m\n\u001b[0;32m----> 1\u001b[0;31m \u001b[0mnp\u001b[0m\u001b[0;34m.\u001b[0m\u001b[0mapply_along_axis\u001b[0m\u001b[0;34m(\u001b[0m\u001b[0msvd_compress\u001b[0m\u001b[0;34m,\u001b[0m \u001b[0;36m1\u001b[0m\u001b[0;34m,\u001b[0m \u001b[0mmnist_data\u001b[0m\u001b[0;34m)\u001b[0m\u001b[0;34m\u001b[0m\u001b[0m\n\u001b[0m\u001b[1;32m      2\u001b[0m \u001b[0;34m\u001b[0m\u001b[0m\n",
      "\u001b[0;32m//anaconda/envs/dsi/lib/python2.7/site-packages/numpy/lib/shape_base.pyc\u001b[0m in \u001b[0;36mapply_along_axis\u001b[0;34m(func1d, axis, arr, *args, **kwargs)\u001b[0m\n\u001b[1;32m    115\u001b[0m         \u001b[0moutshape\u001b[0m\u001b[0;34m[\u001b[0m\u001b[0maxis\u001b[0m\u001b[0;34m]\u001b[0m \u001b[0;34m=\u001b[0m \u001b[0mlen\u001b[0m\u001b[0;34m(\u001b[0m\u001b[0mres\u001b[0m\u001b[0;34m)\u001b[0m\u001b[0;34m\u001b[0m\u001b[0m\n\u001b[1;32m    116\u001b[0m         \u001b[0moutarr\u001b[0m \u001b[0;34m=\u001b[0m \u001b[0mzeros\u001b[0m\u001b[0;34m(\u001b[0m\u001b[0moutshape\u001b[0m\u001b[0;34m,\u001b[0m \u001b[0masarray\u001b[0m\u001b[0;34m(\u001b[0m\u001b[0mres\u001b[0m\u001b[0;34m)\u001b[0m\u001b[0;34m.\u001b[0m\u001b[0mdtype\u001b[0m\u001b[0;34m)\u001b[0m\u001b[0;34m\u001b[0m\u001b[0m\n\u001b[0;32m--> 117\u001b[0;31m         \u001b[0moutarr\u001b[0m\u001b[0;34m[\u001b[0m\u001b[0mtuple\u001b[0m\u001b[0;34m(\u001b[0m\u001b[0mi\u001b[0m\u001b[0;34m.\u001b[0m\u001b[0mtolist\u001b[0m\u001b[0;34m(\u001b[0m\u001b[0;34m)\u001b[0m\u001b[0;34m)\u001b[0m\u001b[0;34m]\u001b[0m \u001b[0;34m=\u001b[0m \u001b[0mres\u001b[0m\u001b[0;34m\u001b[0m\u001b[0m\n\u001b[0m\u001b[1;32m    118\u001b[0m         \u001b[0mk\u001b[0m \u001b[0;34m=\u001b[0m \u001b[0;36m1\u001b[0m\u001b[0;34m\u001b[0m\u001b[0m\n\u001b[1;32m    119\u001b[0m         \u001b[0;32mwhile\u001b[0m \u001b[0mk\u001b[0m \u001b[0;34m<\u001b[0m \u001b[0mNtot\u001b[0m\u001b[0;34m:\u001b[0m\u001b[0;34m\u001b[0m\u001b[0m\n",
      "\u001b[0;31mValueError\u001b[0m: could not broadcast input array from shape (784) into shape (1)"
     ]
    }
   ],
   "source": [
    "np.apply_along_axis(svd_compress, 1, mnist_data)\n",
    "\n"
   ]
  },
  {
   "cell_type": "markdown",
   "metadata": {},
   "source": [
    "## Optional: Interview Practice"
   ]
  },
  {
   "cell_type": "markdown",
   "metadata": {},
   "source": [
    "## Coding Questions \n",
    "- Implement Binary Search in Python and write down the algorithmic complexity of the Binary Search Algorithm.\n",
    "\n",
    "\n",
    "- Implement Merge Sort in Python [Hint: First implement the `merge` function that combines two sorted arrays into one sorted array linear time]. What is the time complexity of `mergesort` ?\n",
    "\n",
    "\n",
    "- Find the closest pair from two sorted arrays. Given two sorted arrays and a number x, find the pair whose sum is closest to x and the pair has an element from each array. We are given two arrays ar1[0…m-1] and ar2[0..n-1] and a number x, we need to find the pair ar1[i] + ar2[j] such that absolute value of (ar1[i] + ar2[j] – x) is minimum. What is the time complexity of this algorithm?"
   ]
  },
  {
   "cell_type": "code",
   "execution_count": null,
   "metadata": {
    "collapsed": true
   },
   "outputs": [],
   "source": []
  },
  {
   "cell_type": "code",
   "execution_count": 100,
   "metadata": {
    "collapsed": false
   },
   "outputs": [
    {
     "data": {
      "text/plain": [
       "5"
      ]
     },
     "execution_count": 100,
     "metadata": {},
     "output_type": "execute_result"
    }
   ],
   "source": [
    "#Binary search\n",
    "\n",
    "sample_list = [10, 16, 19, 22, 43, 98, 101]\n",
    "sample_num = 98\n",
    "\n",
    "def binary_search(num, search_list):\n",
    "    length = len(search_list)\n",
    "    min_index = 0\n",
    "    max_index = length - 1 \n",
    "    guess = 0\n",
    "    \n",
    "    while guess != num:\n",
    "        guess_index = (max_index + min_index) / 2\n",
    "        guess = search_list[guess_index]\n",
    "        if num > guess:\n",
    "            min_index = guess_index\n",
    "        elif num < guess:\n",
    "            max_index = guess_index\n",
    "        elif min_index == max_index:\n",
    "            return False\n",
    "            break\n",
    "            \n",
    "    else:\n",
    "        return guess_index\n",
    "    \n",
    "binary_search(sample_num, sample_list)\n",
    "\n",
    "\n",
    "#time complexity: log2(n)? "
   ]
  },
  {
   "cell_type": "code",
   "execution_count": 136,
   "metadata": {
    "collapsed": true
   },
   "outputs": [],
   "source": [
    "sample_list = list(np.random.randint(0, 20, size = 20))"
   ]
  },
  {
   "cell_type": "code",
   "execution_count": 167,
   "metadata": {
    "collapsed": false
   },
   "outputs": [
    {
     "ename": "UnboundLocalError",
     "evalue": "local variable 'sorted_list' referenced before assignment",
     "output_type": "error",
     "traceback": [
      "\u001b[0;31m---------------------------------------------------------------------------\u001b[0m",
      "\u001b[0;31mUnboundLocalError\u001b[0m                         Traceback (most recent call last)",
      "\u001b[0;32m<ipython-input-167-445afe166091>\u001b[0m in \u001b[0;36m<module>\u001b[0;34m()\u001b[0m\n\u001b[1;32m     26\u001b[0m         \u001b[0mmerge\u001b[0m\u001b[0;34m(\u001b[0m\u001b[0mlist1\u001b[0m\u001b[0;34m[\u001b[0m\u001b[0;36m1\u001b[0m\u001b[0;34m:\u001b[0m\u001b[0;34m]\u001b[0m\u001b[0;34m,\u001b[0m \u001b[0mlist2\u001b[0m\u001b[0;34m)\u001b[0m\u001b[0;34m\u001b[0m\u001b[0m\n\u001b[1;32m     27\u001b[0m \u001b[0;34m\u001b[0m\u001b[0m\n\u001b[0;32m---> 28\u001b[0;31m \u001b[0mmerge\u001b[0m\u001b[0;34m(\u001b[0m\u001b[0;34m[\u001b[0m\u001b[0;36m4\u001b[0m\u001b[0;34m,\u001b[0m \u001b[0;36m7\u001b[0m\u001b[0;34m,\u001b[0m \u001b[0;36m9\u001b[0m \u001b[0;34m,\u001b[0m \u001b[0;36m12\u001b[0m\u001b[0;34m]\u001b[0m\u001b[0;34m,\u001b[0m \u001b[0;34m[\u001b[0m\u001b[0;36m9\u001b[0m\u001b[0;34m,\u001b[0m \u001b[0;36m18\u001b[0m\u001b[0;34m,\u001b[0m \u001b[0;36m24\u001b[0m\u001b[0;34m,\u001b[0m \u001b[0;36m98\u001b[0m\u001b[0;34m]\u001b[0m\u001b[0;34m)\u001b[0m\u001b[0;34m\u001b[0m\u001b[0m\n\u001b[0m\u001b[1;32m     29\u001b[0m \u001b[0;34m\u001b[0m\u001b[0m\n\u001b[1;32m     30\u001b[0m \u001b[0;32mprint\u001b[0m \u001b[0msorted_list\u001b[0m\u001b[0;34m\u001b[0m\u001b[0m\n",
      "\u001b[0;32m<ipython-input-167-445afe166091>\u001b[0m in \u001b[0;36mmerge\u001b[0;34m(list1, list2)\u001b[0m\n\u001b[1;32m     23\u001b[0m \u001b[0;34m\u001b[0m\u001b[0m\n\u001b[1;32m     24\u001b[0m     \u001b[0;32melse\u001b[0m\u001b[0;34m:\u001b[0m\u001b[0;34m\u001b[0m\u001b[0m\n\u001b[0;32m---> 25\u001b[0;31m         \u001b[0msorted_list\u001b[0m\u001b[0;34m.\u001b[0m\u001b[0mappend\u001b[0m\u001b[0;34m(\u001b[0m\u001b[0mlist1\u001b[0m\u001b[0;34m[\u001b[0m\u001b[0;36m0\u001b[0m\u001b[0;34m]\u001b[0m\u001b[0;34m)\u001b[0m\u001b[0;34m\u001b[0m\u001b[0m\n\u001b[0m\u001b[1;32m     26\u001b[0m         \u001b[0mmerge\u001b[0m\u001b[0;34m(\u001b[0m\u001b[0mlist1\u001b[0m\u001b[0;34m[\u001b[0m\u001b[0;36m1\u001b[0m\u001b[0;34m:\u001b[0m\u001b[0;34m]\u001b[0m\u001b[0;34m,\u001b[0m \u001b[0mlist2\u001b[0m\u001b[0;34m)\u001b[0m\u001b[0;34m\u001b[0m\u001b[0m\n\u001b[1;32m     27\u001b[0m \u001b[0;34m\u001b[0m\u001b[0m\n",
      "\u001b[0;31mUnboundLocalError\u001b[0m: local variable 'sorted_list' referenced before assignment"
     ]
    }
   ],
   "source": [
    "#MergeSort\n",
    "\n",
    "sample_list_1 = range(20)\n",
    "sample_list_2 = map(lambda x: x * 3, range(23))\n",
    "\n",
    "\n",
    "sorted_list = []\n",
    "\n",
    "def merge(list1, list2):\n",
    "    \n",
    "    if len(list1) == 0:\n",
    "        sorted_list = sorted_list + list2 \n",
    "        return None\n",
    "    \n",
    "    elif len(list2) == 0:\n",
    "        sorted_list = sorted_list +  list1\n",
    "        return None\n",
    "    \n",
    "    if list1[0] > list2[0]:\n",
    "        sorted_list.append(list2[0])\n",
    "        merge(list1, list2[1:])\n",
    "        \n",
    "        \n",
    "    else:\n",
    "        sorted_list.append(list1[0])\n",
    "        merge(list1[1:], list2)\n",
    "\n",
    "merge([4, 7, 9 , 12], [9, 18, 24, 98])\n",
    "\n",
    "print sorted_list\n",
    "\n"
   ]
  },
  {
   "cell_type": "code",
   "execution_count": null,
   "metadata": {
    "collapsed": true
   },
   "outputs": [],
   "source": [
    "def MergeSort(random_list):\n",
    "    \n",
    "    while len(random_list) != 0:\n",
    "        output.append(merge([random_list[0]], [random_list[1]]))\n",
    "        MergeSort(random_list[0:2])\n",
    "#    MergeSort(sample_list_3)      \n",
    "        \n"
   ]
  },
  {
   "cell_type": "code",
   "execution_count": 146,
   "metadata": {
    "collapsed": false
   },
   "outputs": [
    {
     "data": {
      "text/plain": [
       "[0,\n",
       " 3,\n",
       " 6,\n",
       " 9,\n",
       " 12,\n",
       " 15,\n",
       " 18,\n",
       " 21,\n",
       " 24,\n",
       " 27,\n",
       " 30,\n",
       " 33,\n",
       " 36,\n",
       " 39,\n",
       " 42,\n",
       " 45,\n",
       " 48,\n",
       " 51,\n",
       " 54,\n",
       " 57,\n",
       " 60,\n",
       " 63,\n",
       " 66]"
      ]
     },
     "execution_count": 146,
     "metadata": {},
     "output_type": "execute_result"
    }
   ],
   "source": [
    "sorted_list = []\n",
    "def merge2(list1, list2):\n",
    "    if len(list1) and len(list2) == 0:\n",
    "        return None\n",
    "    if list1[0] > list2[0]:\n",
    "        sorted_list.append(list1[0])\n",
    "        merge2(list1[1:], list2)\n",
    "    else:\n",
    "        sorted_list.append(list2[0])\n",
    "        merge2(list1,list2[1:])\n",
    "\n",
    "merge2(sample_list_1, sample_list_2)\n",
    "\n",
    "sorted_list"
   ]
  },
  {
   "cell_type": "markdown",
   "metadata": {},
   "source": [
    "## Probability  and Statistics Questions \n",
    "\n",
    "- In any 15-minute interval, there is a 20% probability that you will see at least one shooting star. What is the probability that you see at least one shooting star in the period of an hour?\n",
    "    - The probability of not seeing a shooting star in an hour is 0.8^4 = 0.4096\n",
    "    - So the probability of seeing at least one star is 1 - 0.4096 = 0.5904\n",
    "\n",
    "\n",
    "- A certain couple tells you that they have two children, at least one of which is a girl. What is the probability that they have two girls?\n",
    "    - 0.5? If order doesn't matter.\n",
    "    - 1/3 if order does matter.\n"
   ]
  },
  {
   "cell_type": "markdown",
   "metadata": {},
   "source": [
    "## Interview Questions Related to Material\n",
    "\n",
    "- *Explain what is bias-variance tradeoff to a non-technical person. Why is it a useful framework? How do you detect bias in your models? How about you variance? *\n",
    "\n",
    "    - Bias measures a model's ability to accurately make predictions given ideal information. \n",
    "    - Variance is how unpredictable a model is depending on which data it's trained on\n",
    "    - Useful because it helps you tune the sensitivity of your model. Is the model too sensitive to noise (high variance)? Is it complicated enough to capture the structure of the data (high bias).  \n",
    "    \n",
    "    \n",
    "- *Explain why cross-validation is important.* \n",
    "    - A single training set might not accurately reflect the features of a test set. To evaluate a model, the train / test process should be repeated many times to balance out any funky splits that might have happened due to chance. \n",
    "\n",
    "- *What is regularization? What are the advantages/disadvantages of different types of regularization schemes?* \n",
    "    - Regularization throttles over-fitting (keeps variance low). It is an automatic method to keep your model as simple (parsimonious as possible). \n",
    "    - For regressions there are three main regularization algorithms.\n",
    "        - Ridge: Minimizes l2 norm of the parameters.\n",
    "        - Lasso: Minimizes l1 norm of the parameters. More agressively throttles the size of coefficients than Ridge. \n",
    "        - ElasticNet: A combination of Ridge and Lasso. \n",
    "\n",
    "\n",
    "- *What are the loss functions associated with linear regression, logistic regression, and KNN?* \n",
    "    - Linear regression: The sum of squared difference between the true values and the predicted values. \n",
    "    - Logistic regression (binary): Sum of difference between true outcome and its predicted probability (?).   \n",
    "\n",
    "\n",
    "- *Can you give examples of feature engineering on datasets you have worked with?* \n",
    "    - In the iowa liquor dataset, I made courser categories for liquor type. \n",
    "    - Add a quadratic term to a linear regression when the relationship doesn't seem linear in the data. "
   ]
  },
  {
   "cell_type": "code",
   "execution_count": null,
   "metadata": {
    "collapsed": true
   },
   "outputs": [],
   "source": []
  }
 ],
 "metadata": {
  "anaconda-cloud": {},
  "kernelspec": {
   "display_name": "Python [dsi]",
   "language": "python",
   "name": "Python [dsi]"
  },
  "language_info": {
   "codemirror_mode": {
    "name": "ipython",
    "version": 2
   },
   "file_extension": ".py",
   "mimetype": "text/x-python",
   "name": "python",
   "nbconvert_exporter": "python",
   "pygments_lexer": "ipython2",
   "version": "2.7.12"
  }
 },
 "nbformat": 4,
 "nbformat_minor": 0
}
